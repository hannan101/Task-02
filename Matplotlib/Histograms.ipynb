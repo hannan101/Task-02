{
 "cells": [
  {
   "cell_type": "markdown",
   "id": "724ee588-92d1-443a-8af3-aa83342d2fd8",
   "metadata": {},
   "source": [
    "# Matplotlib Histograms\n",
    "Histogram\n",
    "A histogram is a graph showing frequency distributions."
   ]
  },
  {
   "cell_type": "code",
   "execution_count": null,
   "id": "5e6e09ab-d61c-4994-a5bc-2ea8541700ad",
   "metadata": {},
   "outputs": [],
   "source": []
  }
 ],
 "metadata": {
  "kernelspec": {
   "display_name": "Python 3 (ipykernel)",
   "language": "python",
   "name": "python3"
  },
  "language_info": {
   "codemirror_mode": {
    "name": "ipython",
    "version": 3
   },
   "file_extension": ".py",
   "mimetype": "text/x-python",
   "name": "python",
   "nbconvert_exporter": "python",
   "pygments_lexer": "ipython3",
   "version": "3.11.9"
  }
 },
 "nbformat": 4,
 "nbformat_minor": 5
}
