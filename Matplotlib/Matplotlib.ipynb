{
 "cells": [
  {
   "cell_type": "markdown",
   "id": "b330039d-f6e7-4969-b1f0-45ebdb152899",
   "metadata": {},
   "source": [
    "# Matplotlib\n",
    "Matplotlib is a low level graph plotting library in python that serves as a visualization utility.\r\n",
    "\r\n",
    "Matplotlib was created by John D. Hunter.\r\n",
    "\r\n",
    "Matplotlib is open source and we can use it freely.\r\n",
    "\r\n",
    "Matplotlib is mostly written in python, a few segments are written in C, Objective-C and Javascript for Platform compatibility."
   ]
  },
  {
   "cell_type": "markdown",
   "id": "70ae0543-7c7e-410e-80da-5364aa6608d5",
   "metadata": {},
   "source": [
    "# Installation of Matplotlib\n",
    "If you have Python and PIP already installed on a system, then installation of Matplotlib is very easy.\n",
    "\n",
    "Install it using this command:   \n",
    "\n",
    "pip install matplotlib"
   ]
  },
  {
   "cell_type": "markdown",
   "id": "e87a530c-32d3-42c1-9bf4-852d22aac841",
   "metadata": {},
   "source": [
    "# Import Matplotlib\n",
    "Once Matplotlib is installed, import it in your applications by adding the import module statement:"
   ]
  },
  {
   "cell_type": "code",
   "execution_count": 4,
   "id": "4d26e799-27a5-48d2-aa19-b89483f6363f",
   "metadata": {},
   "outputs": [],
   "source": [
    "import matplotlib"
   ]
  },
  {
   "cell_type": "markdown",
   "id": "429b5e96-9ffd-4fed-afed-0ed0ed01e963",
   "metadata": {},
   "source": [
    "Checking Matplotlib Version\n",
    "The version string is stored under __version__ attribute."
   ]
  }
 ],
 "metadata": {
  "kernelspec": {
   "display_name": "Python 3 (ipykernel)",
   "language": "python",
   "name": "python3"
  },
  "language_info": {
   "codemirror_mode": {
    "name": "ipython",
    "version": 3
   },
   "file_extension": ".py",
   "mimetype": "text/x-python",
   "name": "python",
   "nbconvert_exporter": "python",
   "pygments_lexer": "ipython3",
   "version": "3.11.9"
  }
 },
 "nbformat": 4,
 "nbformat_minor": 5
}
